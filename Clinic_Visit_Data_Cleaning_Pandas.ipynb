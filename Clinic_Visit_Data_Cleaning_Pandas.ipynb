{
 "cells": [
  {
   "cell_type": "markdown",
   "id": "f5951c07-f2ca-4dce-9483-82114f492ad2",
   "metadata": {},
   "source": [
    "Healthcare Analytics Dataset"
   ]
  },
  {
   "cell_type": "markdown",
   "id": "cc3b57f9-e997-4560-99a3-9cf4b26fe1de",
   "metadata": {},
   "source": [
    "Import Library"
   ]
  },
  {
   "cell_type": "code",
   "execution_count": 3,
   "id": "5ee16166-3855-47be-b5ba-9d29f627d47e",
   "metadata": {},
   "outputs": [],
   "source": [
    "import pandas as pd"
   ]
  },
  {
   "cell_type": "markdown",
   "id": "cdc33946-ca1e-4436-9e3a-8cab921215c6",
   "metadata": {},
   "source": [
    "Load Datasets"
   ]
  },
  {
   "cell_type": "code",
   "execution_count": 22,
   "id": "105fbc78-ae1a-43bf-bd72-46b6a2652e4c",
   "metadata": {},
   "outputs": [],
   "source": [
    "visits = pd.read_csv(r\"C:\\Users\\navee\\OneDrive\\Desktop\\HR ANALYTICS\\healthcare_analytics_dataset\\clinic_visits.csv\")\n",
    "clinics = pd.read_csv(r\"C:\\Users\\navee\\OneDrive\\Desktop\\HR ANALYTICS\\healthcare_analytics_dataset\\clinics.csv\")\n",
    "doctors = pd.read_csv(r\"C:\\Users\\navee\\OneDrive\\Desktop\\HR ANALYTICS\\healthcare_analytics_dataset\\doctors.csv\")"
   ]
  },
  {
   "cell_type": "markdown",
   "id": "7f2f5eb9-9759-4018-881e-381cc7059f56",
   "metadata": {},
   "source": [
    "Preview of Each Table"
   ]
  },
  {
   "cell_type": "code",
   "execution_count": 25,
   "id": "adf3dd2f-7646-456e-ae1b-9b8df57a19c8",
   "metadata": {},
   "outputs": [
    {
     "data": {
      "text/html": [
       "<div>\n",
       "<style scoped>\n",
       "    .dataframe tbody tr th:only-of-type {\n",
       "        vertical-align: middle;\n",
       "    }\n",
       "\n",
       "    .dataframe tbody tr th {\n",
       "        vertical-align: top;\n",
       "    }\n",
       "\n",
       "    .dataframe thead th {\n",
       "        text-align: right;\n",
       "    }\n",
       "</style>\n",
       "<table border=\"1\" class=\"dataframe\">\n",
       "  <thead>\n",
       "    <tr style=\"text-align: right;\">\n",
       "      <th></th>\n",
       "      <th>Visit_ID</th>\n",
       "      <th>Date</th>\n",
       "      <th>Patient_Age</th>\n",
       "      <th>Gender</th>\n",
       "      <th>Illness</th>\n",
       "      <th>Medicine_Prescribed</th>\n",
       "      <th>Doctor_ID</th>\n",
       "      <th>Clinic_ID</th>\n",
       "      <th>Visit_Type</th>\n",
       "      <th>Follow_Up</th>\n",
       "      <th>Blood_Pressure</th>\n",
       "      <th>Sugar_Level</th>\n",
       "      <th>Notes</th>\n",
       "    </tr>\n",
       "  </thead>\n",
       "  <tbody>\n",
       "    <tr>\n",
       "      <th>0</th>\n",
       "      <td>V00001</td>\n",
       "      <td>2023-10-04</td>\n",
       "      <td>45</td>\n",
       "      <td>Male</td>\n",
       "      <td>Skin Rash</td>\n",
       "      <td>NaN</td>\n",
       "      <td>D016</td>\n",
       "      <td>C011</td>\n",
       "      <td>First-Time</td>\n",
       "      <td>No</td>\n",
       "      <td>120/80</td>\n",
       "      <td>NaN</td>\n",
       "      <td>Physical five reach history notice opportunity...</td>\n",
       "    </tr>\n",
       "    <tr>\n",
       "      <th>1</th>\n",
       "      <td>V00002</td>\n",
       "      <td>2024-09-05</td>\n",
       "      <td>57</td>\n",
       "      <td>Female</td>\n",
       "      <td>Cough</td>\n",
       "      <td>Ibuprofen</td>\n",
       "      <td>D097</td>\n",
       "      <td>C007</td>\n",
       "      <td>Follow-Up</td>\n",
       "      <td>No</td>\n",
       "      <td>160/100</td>\n",
       "      <td>130.0</td>\n",
       "      <td>White fight move water put.</td>\n",
       "    </tr>\n",
       "    <tr>\n",
       "      <th>2</th>\n",
       "      <td>V00003</td>\n",
       "      <td>2023-04-21</td>\n",
       "      <td>6</td>\n",
       "      <td>Female</td>\n",
       "      <td>Skin Rash</td>\n",
       "      <td>NaN</td>\n",
       "      <td>D019</td>\n",
       "      <td>C007</td>\n",
       "      <td>First-Time</td>\n",
       "      <td>No</td>\n",
       "      <td>130/85</td>\n",
       "      <td>150.0</td>\n",
       "      <td>Order seek break.</td>\n",
       "    </tr>\n",
       "    <tr>\n",
       "      <th>3</th>\n",
       "      <td>V00004</td>\n",
       "      <td>2023-03-14</td>\n",
       "      <td>58</td>\n",
       "      <td>Male</td>\n",
       "      <td>Cough</td>\n",
       "      <td>Paracetamol</td>\n",
       "      <td>D021</td>\n",
       "      <td>C005</td>\n",
       "      <td>Follow-Up</td>\n",
       "      <td>Yes</td>\n",
       "      <td>160/100</td>\n",
       "      <td>210.0</td>\n",
       "      <td>Ok away peace able exactly.</td>\n",
       "    </tr>\n",
       "    <tr>\n",
       "      <th>4</th>\n",
       "      <td>V00005</td>\n",
       "      <td>2023-01-12</td>\n",
       "      <td>28</td>\n",
       "      <td>Female</td>\n",
       "      <td>Cough</td>\n",
       "      <td>Metformin</td>\n",
       "      <td>D089</td>\n",
       "      <td>C006</td>\n",
       "      <td>First-Time</td>\n",
       "      <td>No</td>\n",
       "      <td>160/100</td>\n",
       "      <td>90.0</td>\n",
       "      <td>Kitchen hard explain thing against.</td>\n",
       "    </tr>\n",
       "  </tbody>\n",
       "</table>\n",
       "</div>"
      ],
      "text/plain": [
       "  Visit_ID        Date  Patient_Age  Gender    Illness Medicine_Prescribed  \\\n",
       "0   V00001  2023-10-04           45    Male  Skin Rash                 NaN   \n",
       "1   V00002  2024-09-05           57  Female      Cough           Ibuprofen   \n",
       "2   V00003  2023-04-21            6  Female  Skin Rash                 NaN   \n",
       "3   V00004  2023-03-14           58    Male      Cough         Paracetamol   \n",
       "4   V00005  2023-01-12           28  Female      Cough           Metformin   \n",
       "\n",
       "  Doctor_ID Clinic_ID  Visit_Type Follow_Up Blood_Pressure  Sugar_Level  \\\n",
       "0      D016      C011  First-Time        No         120/80          NaN   \n",
       "1      D097      C007   Follow-Up        No        160/100        130.0   \n",
       "2      D019      C007  First-Time        No         130/85        150.0   \n",
       "3      D021      C005   Follow-Up       Yes        160/100        210.0   \n",
       "4      D089      C006  First-Time        No        160/100         90.0   \n",
       "\n",
       "                                               Notes  \n",
       "0  Physical five reach history notice opportunity...  \n",
       "1                        White fight move water put.  \n",
       "2                                  Order seek break.  \n",
       "3                        Ok away peace able exactly.  \n",
       "4                Kitchen hard explain thing against.  "
      ]
     },
     "execution_count": 25,
     "metadata": {},
     "output_type": "execute_result"
    }
   ],
   "source": [
    "visits.head()"
   ]
  },
  {
   "cell_type": "code",
   "execution_count": 27,
   "id": "0d2d694b-f34d-4835-9f33-8de592630335",
   "metadata": {},
   "outputs": [
    {
     "data": {
      "text/html": [
       "<div>\n",
       "<style scoped>\n",
       "    .dataframe tbody tr th:only-of-type {\n",
       "        vertical-align: middle;\n",
       "    }\n",
       "\n",
       "    .dataframe tbody tr th {\n",
       "        vertical-align: top;\n",
       "    }\n",
       "\n",
       "    .dataframe thead th {\n",
       "        text-align: right;\n",
       "    }\n",
       "</style>\n",
       "<table border=\"1\" class=\"dataframe\">\n",
       "  <thead>\n",
       "    <tr style=\"text-align: right;\">\n",
       "      <th></th>\n",
       "      <th>Clinic_ID</th>\n",
       "      <th>Clinic_Name</th>\n",
       "      <th>Location</th>\n",
       "      <th>No_of_Doctors</th>\n",
       "      <th>Available_Beds</th>\n",
       "      <th>Speciality</th>\n",
       "      <th>Area_Type</th>\n",
       "    </tr>\n",
       "  </thead>\n",
       "  <tbody>\n",
       "    <tr>\n",
       "      <th>0</th>\n",
       "      <td>C001</td>\n",
       "      <td>Harris Clinic</td>\n",
       "      <td>Shawnbury</td>\n",
       "      <td>8</td>\n",
       "      <td>16</td>\n",
       "      <td>General</td>\n",
       "      <td>Rural</td>\n",
       "    </tr>\n",
       "    <tr>\n",
       "      <th>1</th>\n",
       "      <td>C002</td>\n",
       "      <td>Valdez Clinic</td>\n",
       "      <td>East Lorifort</td>\n",
       "      <td>5</td>\n",
       "      <td>7</td>\n",
       "      <td>General</td>\n",
       "      <td>Urban</td>\n",
       "    </tr>\n",
       "    <tr>\n",
       "      <th>2</th>\n",
       "      <td>C003</td>\n",
       "      <td>Wilson Clinic</td>\n",
       "      <td>Kristenberg</td>\n",
       "      <td>5</td>\n",
       "      <td>11</td>\n",
       "      <td>General</td>\n",
       "      <td>Rural</td>\n",
       "    </tr>\n",
       "    <tr>\n",
       "      <th>3</th>\n",
       "      <td>C004</td>\n",
       "      <td>Hebert Clinic</td>\n",
       "      <td>East Christophermouth</td>\n",
       "      <td>6</td>\n",
       "      <td>8</td>\n",
       "      <td>Pediatrics</td>\n",
       "      <td>Rural</td>\n",
       "    </tr>\n",
       "    <tr>\n",
       "      <th>4</th>\n",
       "      <td>C005</td>\n",
       "      <td>Brooks Clinic</td>\n",
       "      <td>Williamtown</td>\n",
       "      <td>9</td>\n",
       "      <td>19</td>\n",
       "      <td>Pediatrics</td>\n",
       "      <td>Rural</td>\n",
       "    </tr>\n",
       "  </tbody>\n",
       "</table>\n",
       "</div>"
      ],
      "text/plain": [
       "  Clinic_ID    Clinic_Name               Location  No_of_Doctors  \\\n",
       "0      C001  Harris Clinic              Shawnbury              8   \n",
       "1      C002  Valdez Clinic          East Lorifort              5   \n",
       "2      C003  Wilson Clinic            Kristenberg              5   \n",
       "3      C004  Hebert Clinic  East Christophermouth              6   \n",
       "4      C005  Brooks Clinic            Williamtown              9   \n",
       "\n",
       "   Available_Beds  Speciality Area_Type  \n",
       "0              16     General     Rural  \n",
       "1               7     General     Urban  \n",
       "2              11     General     Rural  \n",
       "3               8  Pediatrics     Rural  \n",
       "4              19  Pediatrics     Rural  "
      ]
     },
     "execution_count": 27,
     "metadata": {},
     "output_type": "execute_result"
    }
   ],
   "source": [
    "clinics.head()"
   ]
  },
  {
   "cell_type": "code",
   "execution_count": 29,
   "id": "c04dad99-41bd-47ae-9162-26c0ec997c1c",
   "metadata": {},
   "outputs": [
    {
     "data": {
      "text/html": [
       "<div>\n",
       "<style scoped>\n",
       "    .dataframe tbody tr th:only-of-type {\n",
       "        vertical-align: middle;\n",
       "    }\n",
       "\n",
       "    .dataframe tbody tr th {\n",
       "        vertical-align: top;\n",
       "    }\n",
       "\n",
       "    .dataframe thead th {\n",
       "        text-align: right;\n",
       "    }\n",
       "</style>\n",
       "<table border=\"1\" class=\"dataframe\">\n",
       "  <thead>\n",
       "    <tr style=\"text-align: right;\">\n",
       "      <th></th>\n",
       "      <th>Doctor_ID</th>\n",
       "      <th>Doctor_Name</th>\n",
       "      <th>Experience_Years</th>\n",
       "      <th>Speciality</th>\n",
       "      <th>Assigned_Clinic</th>\n",
       "      <th>Days_Available</th>\n",
       "    </tr>\n",
       "  </thead>\n",
       "  <tbody>\n",
       "    <tr>\n",
       "      <th>0</th>\n",
       "      <td>D001</td>\n",
       "      <td>Travis Scott</td>\n",
       "      <td>32</td>\n",
       "      <td>General</td>\n",
       "      <td>C015</td>\n",
       "      <td>Sat, Fri, Tue, Wed, Thu</td>\n",
       "    </tr>\n",
       "    <tr>\n",
       "      <th>1</th>\n",
       "      <td>D002</td>\n",
       "      <td>Nichole Solomon MD</td>\n",
       "      <td>28</td>\n",
       "      <td>Cardiology</td>\n",
       "      <td>C020</td>\n",
       "      <td>Wed, Tue, Sat, Mon, Thu, Fri</td>\n",
       "    </tr>\n",
       "    <tr>\n",
       "      <th>2</th>\n",
       "      <td>D003</td>\n",
       "      <td>Christina Lee</td>\n",
       "      <td>19</td>\n",
       "      <td>General</td>\n",
       "      <td>C025</td>\n",
       "      <td>Mon, Sat, Tue, Fri, Thu, Wed</td>\n",
       "    </tr>\n",
       "    <tr>\n",
       "      <th>3</th>\n",
       "      <td>D004</td>\n",
       "      <td>Ryan Trujillo</td>\n",
       "      <td>28</td>\n",
       "      <td>General</td>\n",
       "      <td>C003</td>\n",
       "      <td>Thu, Sat, Mon</td>\n",
       "    </tr>\n",
       "    <tr>\n",
       "      <th>4</th>\n",
       "      <td>D005</td>\n",
       "      <td>Michael Harrison</td>\n",
       "      <td>25</td>\n",
       "      <td>Dermatology</td>\n",
       "      <td>C021</td>\n",
       "      <td>Fri, Thu, Sat, Tue, Wed, Mon</td>\n",
       "    </tr>\n",
       "  </tbody>\n",
       "</table>\n",
       "</div>"
      ],
      "text/plain": [
       "  Doctor_ID         Doctor_Name  Experience_Years   Speciality  \\\n",
       "0      D001        Travis Scott                32      General   \n",
       "1      D002  Nichole Solomon MD                28   Cardiology   \n",
       "2      D003       Christina Lee                19      General   \n",
       "3      D004       Ryan Trujillo                28      General   \n",
       "4      D005    Michael Harrison                25  Dermatology   \n",
       "\n",
       "  Assigned_Clinic                Days_Available  \n",
       "0            C015       Sat, Fri, Tue, Wed, Thu  \n",
       "1            C020  Wed, Tue, Sat, Mon, Thu, Fri  \n",
       "2            C025  Mon, Sat, Tue, Fri, Thu, Wed  \n",
       "3            C003                 Thu, Sat, Mon  \n",
       "4            C021  Fri, Thu, Sat, Tue, Wed, Mon  "
      ]
     },
     "execution_count": 29,
     "metadata": {},
     "output_type": "execute_result"
    }
   ],
   "source": [
    "doctors.head()"
   ]
  },
  {
   "cell_type": "code",
   "execution_count": 43,
   "id": "ef478d93-f52e-4466-8c45-6271bb536a7a",
   "metadata": {},
   "outputs": [
    {
     "name": "stdout",
     "output_type": "stream",
     "text": [
      "Rows & Columns of Visit Table: (25000, 13)\n"
     ]
    }
   ],
   "source": [
    "print(\"Rows & Columns of Visit Table:\", visits.shape)"
   ]
  },
  {
   "cell_type": "code",
   "execution_count": 45,
   "id": "160f1005-39c8-4e62-9685-26dbae125d5e",
   "metadata": {},
   "outputs": [
    {
     "name": "stdout",
     "output_type": "stream",
     "text": [
      "Rows & Columns of Clinic Table: (25, 7)\n"
     ]
    }
   ],
   "source": [
    "print(\"Rows & Columns of Clinic Table:\", clinics.shape)"
   ]
  },
  {
   "cell_type": "code",
   "execution_count": 47,
   "id": "b4a55cf5-b6b1-4bfe-8312-6e4d1f9c654e",
   "metadata": {},
   "outputs": [
    {
     "name": "stdout",
     "output_type": "stream",
     "text": [
      "Rows & Columns of Doctor Table: (100, 6)\n"
     ]
    }
   ],
   "source": [
    "print(\"Rows & Columns of Doctor Table:\", doctors.shape)"
   ]
  },
  {
   "cell_type": "code",
   "execution_count": 49,
   "id": "3e0183b0-84d5-4695-ae6d-08462024be17",
   "metadata": {},
   "outputs": [
    {
     "name": "stdout",
     "output_type": "stream",
     "text": [
      "Columns in Visit Table: ['Visit_ID', 'Date', 'Patient_Age', 'Gender', 'Illness', 'Medicine_Prescribed', 'Doctor_ID', 'Clinic_ID', 'Visit_Type', 'Follow_Up', 'Blood_Pressure', 'Sugar_Level', 'Notes']\n"
     ]
    }
   ],
   "source": [
    "print(\"Columns in Visit Table:\", visits.columns.tolist())"
   ]
  },
  {
   "cell_type": "code",
   "execution_count": 51,
   "id": "b0c14cd0-7567-45ab-9f4f-7b8d080e7d0e",
   "metadata": {},
   "outputs": [
    {
     "name": "stdout",
     "output_type": "stream",
     "text": [
      "Columns in Clinic Table: ['Clinic_ID', 'Clinic_Name', 'Location', 'No_of_Doctors', 'Available_Beds', 'Speciality', 'Area_Type']\n"
     ]
    }
   ],
   "source": [
    "print(\"Columns in Clinic Table:\", clinics.columns.tolist())"
   ]
  },
  {
   "cell_type": "code",
   "execution_count": 53,
   "id": "8e29e302-cdf4-4c2e-ae01-e2ad626f74dc",
   "metadata": {},
   "outputs": [
    {
     "name": "stdout",
     "output_type": "stream",
     "text": [
      "Columns in Doctors Table: ['Doctor_ID', 'Doctor_Name', 'Experience_Years', 'Speciality', 'Assigned_Clinic', 'Days_Available']\n"
     ]
    }
   ],
   "source": [
    "print(\"Columns in Doctors Table:\", doctors.columns.tolist())"
   ]
  },
  {
   "cell_type": "markdown",
   "id": "2b1099d4-084f-4b68-91ee-232a7b226ab3",
   "metadata": {},
   "source": [
    "Clean Dataset"
   ]
  },
  {
   "cell_type": "code",
   "execution_count": 115,
   "id": "2094bbea-cfae-4d80-8f89-a838681bb783",
   "metadata": {},
   "outputs": [
    {
     "name": "stdout",
     "output_type": "stream",
     "text": [
      "Duplicates in Visit: 0\n"
     ]
    }
   ],
   "source": [
    "print(\" Duplicates in Visit:\", visits.duplicated().sum())"
   ]
  },
  {
   "cell_type": "code",
   "execution_count": 117,
   "id": "5bab4be6-37b4-4eab-b8f5-ab4fd8249c22",
   "metadata": {},
   "outputs": [
    {
     "name": "stdout",
     "output_type": "stream",
     "text": [
      "Duplicates in Clinic: 0\n"
     ]
    }
   ],
   "source": [
    "print(\"Duplicates in Clinic:\",clinics.duplicated().sum())"
   ]
  },
  {
   "cell_type": "code",
   "execution_count": 119,
   "id": "245fa25c-fbda-4261-b6b6-37631352c0d6",
   "metadata": {},
   "outputs": [
    {
     "name": "stdout",
     "output_type": "stream",
     "text": [
      "Duplicates in Doctor: 0\n"
     ]
    }
   ],
   "source": [
    "print(\"Duplicates in Doctor:\",doctors.duplicated().sum())"
   ]
  },
  {
   "cell_type": "code",
   "execution_count": 123,
   "id": "f680bf7b-ee52-4bcf-93c3-79fce4703950",
   "metadata": {},
   "outputs": [
    {
     "name": "stdout",
     "output_type": "stream",
     "text": [
      "Nulls in Visits: Visit_ID               0\n",
      "Date                   0\n",
      "Patient_Age            0\n",
      "Gender                 0\n",
      "Illness                0\n",
      "Medicine_Prescribed    0\n",
      "Doctor_ID              0\n",
      "Clinic_ID              0\n",
      "Visit_Type             0\n",
      "Follow_Up              0\n",
      "Blood_Pressure         0\n",
      "Sugar_Level            0\n",
      "Notes                  0\n",
      "Year                   0\n",
      "Month                  0\n",
      "Day                    0\n",
      "Weekday                0\n",
      "dtype: int64\n"
     ]
    }
   ],
   "source": [
    "print(\"Nulls in Visits:\", visits.isnull().sum())"
   ]
  },
  {
   "cell_type": "code",
   "execution_count": 125,
   "id": "24eae556-d6a6-4289-94cc-ed1510f120f1",
   "metadata": {},
   "outputs": [],
   "source": [
    "visits['Medicine_Prescribed'] = visits['Medicine_Prescribed'].fillna('Not Prescribed')"
   ]
  },
  {
   "cell_type": "code",
   "execution_count": 91,
   "id": "2b9ac755-0078-4dcd-bc99-18950ef0084b",
   "metadata": {},
   "outputs": [],
   "source": [
    "visits['Blood_Pressure'] = visits['Blood_Pressure'].fillna('Not Recorded')"
   ]
  },
  {
   "cell_type": "code",
   "execution_count": 93,
   "id": "e8b1d465-dad2-4eaf-a186-dae6731a4e23",
   "metadata": {},
   "outputs": [],
   "source": [
    "visits['Sugar_Level'] = visits['Sugar_Level'].fillna('Not Recorded')"
   ]
  },
  {
   "cell_type": "code",
   "execution_count": 127,
   "id": "a96e7288-0b8e-4f4d-a8ab-e2b74776b0e7",
   "metadata": {},
   "outputs": [
    {
     "name": "stdout",
     "output_type": "stream",
     "text": [
      "Nulls in Clinic: Clinic_ID         0\n",
      "Clinic_Name       0\n",
      "Location          0\n",
      "No_of_Doctors     0\n",
      "Available_Beds    0\n",
      "Speciality        0\n",
      "Area_Type         0\n",
      "dtype: int64\n"
     ]
    }
   ],
   "source": [
    "print(\"Nulls in Clinic:\", clinics.isnull().sum())"
   ]
  },
  {
   "cell_type": "code",
   "execution_count": 129,
   "id": "45a57bf5-3b8f-40ed-abdc-0c244755079f",
   "metadata": {},
   "outputs": [
    {
     "name": "stdout",
     "output_type": "stream",
     "text": [
      "Nulls in Doctor: Doctor_ID           0\n",
      "Doctor_Name         0\n",
      "Experience_Years    0\n",
      "Speciality          0\n",
      "Assigned_Clinic     0\n",
      "Days_Available      0\n",
      "dtype: int64\n"
     ]
    }
   ],
   "source": [
    "print(\"Nulls in Doctor:\", doctors.isnull().sum())"
   ]
  },
  {
   "cell_type": "code",
   "execution_count": 137,
   "id": "37a48166-0c04-4b6f-804e-48318008810e",
   "metadata": {},
   "outputs": [],
   "source": [
    "visits['Date'] = pd.to_datetime(visits['Date'], errors='coerce')"
   ]
  },
  {
   "cell_type": "code",
   "execution_count": 113,
   "id": "76d32221-bdea-46f7-bf21-aa6c0c0a9266",
   "metadata": {},
   "outputs": [],
   "source": [
    "visits['Year'] = visits['Date'].dt.year\n",
    "visits['Month'] =visits['Date'].dt.month\n",
    "visits['Day'] = visits['Date'].dt.day\n",
    "visits['Weekday'] = visits['Date'].dt.day_name()"
   ]
  },
  {
   "cell_type": "markdown",
   "id": "5d3c051d-d223-40d8-9f9c-c6587e67571e",
   "metadata": {},
   "source": [
    "Save cleaned CSV files"
   ]
  },
  {
   "cell_type": "code",
   "execution_count": 147,
   "id": "69d566c2-30a8-48e6-8e1c-ec319a4124b0",
   "metadata": {},
   "outputs": [],
   "source": [
    "visits.to_csv(r'C:\\Users\\navee\\OneDrive\\Desktop\\HR ANALYTICS\\healthcare_analytics_dataset\\cleaned_visits.csv', index=False)        "
   ]
  },
  {
   "cell_type": "code",
   "execution_count": 149,
   "id": "4f8b6ea2-ed44-4267-a69d-16655a76fbcc",
   "metadata": {},
   "outputs": [],
   "source": [
    "clinics.to_csv(r'C:\\Users\\navee\\OneDrive\\Desktop\\HR ANALYTICS\\healthcare_analytics_dataset\\cleaned_clinics.csv', index=False)              "
   ]
  },
  {
   "cell_type": "code",
   "execution_count": 151,
   "id": "4846e626-91ef-46e1-869f-7bea3f957f3c",
   "metadata": {},
   "outputs": [],
   "source": [
    "doctors.to_csv(r'C:\\Users\\navee\\OneDrive\\Desktop\\HR ANALYTICS\\healthcare_analytics_dataset\\cleaned_doctors.csv', index=False)              "
   ]
  },
  {
   "cell_type": "code",
   "execution_count": null,
   "id": "8f7c9813-eef5-40ae-a402-e3ed89737f38",
   "metadata": {},
   "outputs": [],
   "source": []
  }
 ],
 "metadata": {
  "kernelspec": {
   "display_name": "Python [conda env:base] *",
   "language": "python",
   "name": "conda-base-py"
  },
  "language_info": {
   "codemirror_mode": {
    "name": "ipython",
    "version": 3
   },
   "file_extension": ".py",
   "mimetype": "text/x-python",
   "name": "python",
   "nbconvert_exporter": "python",
   "pygments_lexer": "ipython3",
   "version": "3.12.7"
  }
 },
 "nbformat": 4,
 "nbformat_minor": 5
}
